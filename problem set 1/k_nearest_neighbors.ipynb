{
 "cells": [
  {
   "cell_type": "code",
   "execution_count": 2,
   "metadata": {},
   "outputs": [
    {
     "name": "stdout",
     "output_type": "stream",
     "text": [
      "Populating the interactive namespace from numpy and matplotlib\n"
     ]
    }
   ],
   "source": [
    "import pandas as pd\n",
    "import io\n",
    "import requests\n",
    "import sklearn\n",
    "from matplotlib import pyplot as plt\n",
    "from sklearn.pipeline import Pipeline\n",
    "%pylab inline\n",
    "from sklearn.tree import DecisionTreeClassifier\n",
    "from sklearn.neighbors import KNeighborsClassifier \n",
    "from sklearn.model_selection import train_test_split, learning_curve\n",
    "from sklearn.preprocessing import LabelEncoder\n",
    "from sklearn.pipeline import Pipeline\n",
    "from sklearn.preprocessing import StandardScaler\n",
    "from sklearn.model_selection import GridSearchCV\n",
    "from sklearn.metrics import precision_recall_fscore_support, accuracy_score, confusion_matrix\n",
    "import seaborn as sns\n",
    "#hide warnings\n",
    "import warnings\n",
    "warnings.filterwarnings('ignore')"
   ]
  },
  {
   "cell_type": "markdown",
   "metadata": {},
   "source": [
    "# Adult dataset"
   ]
  },
  {
   "cell_type": "code",
   "execution_count": 4,
   "metadata": {},
   "outputs": [],
   "source": [
    "adult_income_df = pd.read_csv('./data/adult_income.csv')"
   ]
  },
  {
   "cell_type": "code",
   "execution_count": 5,
   "metadata": {},
   "outputs": [],
   "source": [
    "# If reading it in\n",
    "adult_income_df.drop('Unnamed: 0', axis=1, inplace=True)"
   ]
  },
  {
   "cell_type": "code",
   "execution_count": 9,
   "metadata": {},
   "outputs": [],
   "source": [
    "#transform income into more than 50k less than 50k\n",
    "income_transformed =  adult_income_df['income_bracket'].apply(lambda x: 0 if x == ' <=50K' else 1)\n",
    "adult_income_df['income_bracket'] =income_transformed"
   ]
  },
  {
   "cell_type": "code",
   "execution_count": 10,
   "metadata": {},
   "outputs": [],
   "source": [
    "def one_hot_text_encoder(df, text_cols=['workclass', 'education', 'marital_status', 'occupation', 'relationship', 'sex', 'native_country', 'race']):\n",
    "    for col in text_cols:\n",
    "        # Get k-1 columns\n",
    "        one_hot_df = pd.get_dummies(df[col], drop_first=True)\n",
    "        df = df.drop(col, axis=1)\n",
    "        df = pd.concat([df, one_hot_df], axis=1)\n",
    "    return df"
   ]
  },
  {
   "cell_type": "code",
   "execution_count": 11,
   "metadata": {},
   "outputs": [],
   "source": [
    "transformed_adult_income_df = one_hot_text_encoder(adult_income_df)\n"
   ]
  },
  {
   "cell_type": "code",
   "execution_count": 13,
   "metadata": {},
   "outputs": [
    {
     "data": {
      "text/html": [
       "<div>\n",
       "<style scoped>\n",
       "    .dataframe tbody tr th:only-of-type {\n",
       "        vertical-align: middle;\n",
       "    }\n",
       "\n",
       "    .dataframe tbody tr th {\n",
       "        vertical-align: top;\n",
       "    }\n",
       "\n",
       "    .dataframe thead th {\n",
       "        text-align: right;\n",
       "    }\n",
       "</style>\n",
       "<table border=\"1\" class=\"dataframe\">\n",
       "  <thead>\n",
       "    <tr style=\"text-align: right;\">\n",
       "      <th></th>\n",
       "      <th>age</th>\n",
       "      <th>fnlwgt</th>\n",
       "      <th>education_num</th>\n",
       "      <th>capital_gain</th>\n",
       "      <th>capital_loss</th>\n",
       "      <th>hours_per_week</th>\n",
       "      <th>income_bracket</th>\n",
       "      <th>Federal-gov</th>\n",
       "      <th>Local-gov</th>\n",
       "      <th>Never-worked</th>\n",
       "      <th>...</th>\n",
       "      <th>Taiwan</th>\n",
       "      <th>Thailand</th>\n",
       "      <th>Trinadad&amp;Tobago</th>\n",
       "      <th>United-States</th>\n",
       "      <th>Vietnam</th>\n",
       "      <th>Yugoslavia</th>\n",
       "      <th>Asian-Pac-Islander</th>\n",
       "      <th>Black</th>\n",
       "      <th>Other</th>\n",
       "      <th>White</th>\n",
       "    </tr>\n",
       "  </thead>\n",
       "  <tbody>\n",
       "    <tr>\n",
       "      <th>0</th>\n",
       "      <td>39</td>\n",
       "      <td>77516</td>\n",
       "      <td>13</td>\n",
       "      <td>2174</td>\n",
       "      <td>0</td>\n",
       "      <td>40</td>\n",
       "      <td>0</td>\n",
       "      <td>0</td>\n",
       "      <td>0</td>\n",
       "      <td>0</td>\n",
       "      <td>...</td>\n",
       "      <td>0</td>\n",
       "      <td>0</td>\n",
       "      <td>0</td>\n",
       "      <td>1</td>\n",
       "      <td>0</td>\n",
       "      <td>0</td>\n",
       "      <td>0</td>\n",
       "      <td>0</td>\n",
       "      <td>0</td>\n",
       "      <td>1</td>\n",
       "    </tr>\n",
       "    <tr>\n",
       "      <th>1</th>\n",
       "      <td>50</td>\n",
       "      <td>83311</td>\n",
       "      <td>13</td>\n",
       "      <td>0</td>\n",
       "      <td>0</td>\n",
       "      <td>13</td>\n",
       "      <td>0</td>\n",
       "      <td>0</td>\n",
       "      <td>0</td>\n",
       "      <td>0</td>\n",
       "      <td>...</td>\n",
       "      <td>0</td>\n",
       "      <td>0</td>\n",
       "      <td>0</td>\n",
       "      <td>1</td>\n",
       "      <td>0</td>\n",
       "      <td>0</td>\n",
       "      <td>0</td>\n",
       "      <td>0</td>\n",
       "      <td>0</td>\n",
       "      <td>1</td>\n",
       "    </tr>\n",
       "    <tr>\n",
       "      <th>2</th>\n",
       "      <td>38</td>\n",
       "      <td>215646</td>\n",
       "      <td>9</td>\n",
       "      <td>0</td>\n",
       "      <td>0</td>\n",
       "      <td>40</td>\n",
       "      <td>0</td>\n",
       "      <td>0</td>\n",
       "      <td>0</td>\n",
       "      <td>0</td>\n",
       "      <td>...</td>\n",
       "      <td>0</td>\n",
       "      <td>0</td>\n",
       "      <td>0</td>\n",
       "      <td>1</td>\n",
       "      <td>0</td>\n",
       "      <td>0</td>\n",
       "      <td>0</td>\n",
       "      <td>0</td>\n",
       "      <td>0</td>\n",
       "      <td>1</td>\n",
       "    </tr>\n",
       "    <tr>\n",
       "      <th>3</th>\n",
       "      <td>53</td>\n",
       "      <td>234721</td>\n",
       "      <td>7</td>\n",
       "      <td>0</td>\n",
       "      <td>0</td>\n",
       "      <td>40</td>\n",
       "      <td>0</td>\n",
       "      <td>0</td>\n",
       "      <td>0</td>\n",
       "      <td>0</td>\n",
       "      <td>...</td>\n",
       "      <td>0</td>\n",
       "      <td>0</td>\n",
       "      <td>0</td>\n",
       "      <td>1</td>\n",
       "      <td>0</td>\n",
       "      <td>0</td>\n",
       "      <td>0</td>\n",
       "      <td>1</td>\n",
       "      <td>0</td>\n",
       "      <td>0</td>\n",
       "    </tr>\n",
       "    <tr>\n",
       "      <th>4</th>\n",
       "      <td>28</td>\n",
       "      <td>338409</td>\n",
       "      <td>13</td>\n",
       "      <td>0</td>\n",
       "      <td>0</td>\n",
       "      <td>40</td>\n",
       "      <td>0</td>\n",
       "      <td>0</td>\n",
       "      <td>0</td>\n",
       "      <td>0</td>\n",
       "      <td>...</td>\n",
       "      <td>0</td>\n",
       "      <td>0</td>\n",
       "      <td>0</td>\n",
       "      <td>0</td>\n",
       "      <td>0</td>\n",
       "      <td>0</td>\n",
       "      <td>0</td>\n",
       "      <td>1</td>\n",
       "      <td>0</td>\n",
       "      <td>0</td>\n",
       "    </tr>\n",
       "  </tbody>\n",
       "</table>\n",
       "<p>5 rows × 101 columns</p>\n",
       "</div>"
      ],
      "text/plain": [
       "   age  fnlwgt  education_num  capital_gain  capital_loss  hours_per_week  \\\n",
       "0   39   77516             13          2174             0              40   \n",
       "1   50   83311             13             0             0              13   \n",
       "2   38  215646              9             0             0              40   \n",
       "3   53  234721              7             0             0              40   \n",
       "4   28  338409             13             0             0              40   \n",
       "\n",
       "   income_bracket   Federal-gov   Local-gov   Never-worked  ...   Taiwan  \\\n",
       "0               0             0           0              0  ...        0   \n",
       "1               0             0           0              0  ...        0   \n",
       "2               0             0           0              0  ...        0   \n",
       "3               0             0           0              0  ...        0   \n",
       "4               0             0           0              0  ...        0   \n",
       "\n",
       "    Thailand   Trinadad&Tobago   United-States   Vietnam   Yugoslavia  \\\n",
       "0          0                 0               1         0            0   \n",
       "1          0                 0               1         0            0   \n",
       "2          0                 0               1         0            0   \n",
       "3          0                 0               1         0            0   \n",
       "4          0                 0               0         0            0   \n",
       "\n",
       "    Asian-Pac-Islander   Black   Other   White  \n",
       "0                    0       0       0       1  \n",
       "1                    0       0       0       1  \n",
       "2                    0       0       0       1  \n",
       "3                    0       1       0       0  \n",
       "4                    0       1       0       0  \n",
       "\n",
       "[5 rows x 101 columns]"
      ]
     },
     "execution_count": 13,
     "metadata": {},
     "output_type": "execute_result"
    }
   ],
   "source": [
    "transformed_adult_income_df.head()"
   ]
  },
  {
   "cell_type": "code",
   "execution_count": 14,
   "metadata": {},
   "outputs": [],
   "source": [
    "X_transformed_adult_income_df = transformed_adult_income_df.iloc[:, transformed_adult_income_df.columns != 'income_bracket']\n",
    "Y_transformed_adult_income_df = transformed_adult_income_df['income_bracket']"
   ]
  },
  {
   "cell_type": "markdown",
   "metadata": {},
   "source": [
    "# Banking Dataset"
   ]
  },
  {
   "cell_type": "code",
   "execution_count": 15,
   "metadata": {},
   "outputs": [],
   "source": [
    "banking_df = pd.read_csv('data/bank-full.csv', delimiter =';')"
   ]
  },
  {
   "cell_type": "code",
   "execution_count": 16,
   "metadata": {},
   "outputs": [],
   "source": [
    "# transform y into 1 and 0 \n",
    "banking_df['y'] = banking_df['y'].apply(lambda x: 1 if x =='yes' else 0)"
   ]
  },
  {
   "cell_type": "code",
   "execution_count": 17,
   "metadata": {},
   "outputs": [],
   "source": [
    "banking_text_cols = ['job', 'marital', 'education', 'housing', 'loan', 'contact', 'month', 'poutcome', 'default']\n",
    "transformed_banking_df = one_hot_text_encoder(banking_df, banking_text_cols)"
   ]
  },
  {
   "cell_type": "code",
   "execution_count": 18,
   "metadata": {},
   "outputs": [],
   "source": [
    "X_transformed_banking_df = transformed_banking_df.iloc[:, transformed_banking_df.columns != 'y']\n",
    "Y_transformed_banking_df = transformed_banking_df['y']"
   ]
  },
  {
   "cell_type": "markdown",
   "metadata": {},
   "source": [
    "# Learning Curves"
   ]
  },
  {
   "cell_type": "code",
   "execution_count": 25,
   "metadata": {},
   "outputs": [],
   "source": [
    "# Taken from - https://scikit-learn.org/stable/auto_examples/model_selection/plot_learning_curve.html#sphx-glr-auto-examples-model-selection-plot-learning-curve-py\n",
    "def plot_learning_curve(estimator, title, X, y, ylim=None, cv=3,\n",
    "                        n_jobs=None, train_sizes=np.linspace(.1, 1.0, 20)):\n",
    "    \"\"\"\n",
    "    Generate a simple plot of the test and training learning curve.\n",
    "\n",
    "    Parameters\n",
    "    ----------\n",
    "    estimator : object type that implements the \"fit\" and \"predict\" methods\n",
    "        An object of that type which is cloned for each validation.\n",
    "\n",
    "    title : string\n",
    "        Title for the chart.\n",
    "\n",
    "    X : array-like, shape (n_samples, n_features)\n",
    "        Training vector, where n_samples is the number of samples and\n",
    "        n_features is the number of features.\n",
    "\n",
    "    y : array-like, shape (n_samples) or (n_samples, n_features), optional\n",
    "        Target relative to X for classification or regression;\n",
    "        None for unsupervised learning.\n",
    "\n",
    "    ylim : tuple, shape (ymin, ymax), optional\n",
    "        Defines minimum and maximum yvalues plotted.\n",
    "\n",
    "    cv : int, cross-validation generator or an iterable, optional\n",
    "        Determines the cross-validation splitting strategy.\n",
    "        Possible inputs for cv are:\n",
    "          - None, to use the default 3-fold cross-validation,\n",
    "          - integer, to specify the number of folds.\n",
    "          - :term:`CV splitter`,\n",
    "          - An iterable yielding (train, test) splits as arrays of indices.\n",
    "\n",
    "        For integer/None inputs, if ``y`` is binary or multiclass,\n",
    "        :class:`StratifiedKFold` used. If the estimator is not a classifier\n",
    "        or if ``y`` is neither binary nor multiclass, :class:`KFold` is used.\n",
    "\n",
    "        Refer :ref:`User Guide <cross_validation>` for the various\n",
    "        cross-validators that can be used here.\n",
    "\n",
    "    n_jobs : int or None, optional (default=None)\n",
    "        Number of jobs to run in parallel.\n",
    "        ``None`` means 1 unless in a :obj:`joblib.parallel_backend` context.\n",
    "        ``-1`` means using all processors. See :term:`Glossary <n_jobs>`\n",
    "        for more details.\n",
    "\n",
    "    train_sizes : array-like, shape (n_ticks,), dtype float or int\n",
    "        Relative or absolute numbers of training examples that will be used to\n",
    "        generate the learning curve. If the dtype is float, it is regarded as a\n",
    "        fraction of the maximum size of the training set (that is determined\n",
    "        by the selected validation method), i.e. it has to be within (0, 1].\n",
    "        Otherwise it is interpreted as absolute sizes of the training sets.\n",
    "        Note that for classification the number of samples usually have to\n",
    "        be big enough to contain at least one sample from each class.\n",
    "        (default: np.linspace(0.1, 1.0, 5))\n",
    "    \"\"\"\n",
    "    plt.figure()\n",
    "    plt.title(title)\n",
    "    if ylim is not None:\n",
    "        plt.ylim(*ylim)\n",
    "    plt.xlabel(\"Training examples\")\n",
    "    plt.ylabel(\"Score\")\n",
    "    train_sizes, train_scores, test_scores = learning_curve(\n",
    "        estimator, X, y, cv=cv, n_jobs=n_jobs, train_sizes=train_sizes)\n",
    "    train_scores_mean = np.mean(train_scores, axis=1)\n",
    "    train_scores_std = np.std(train_scores, axis=1)\n",
    "    test_scores_mean = np.mean(test_scores, axis=1)\n",
    "    test_scores_std = np.std(test_scores, axis=1)\n",
    "    plt.grid()\n",
    "\n",
    "    plt.fill_between(train_sizes, train_scores_mean - train_scores_std,\n",
    "                     train_scores_mean + train_scores_std, alpha=0.1,\n",
    "                     color=\"r\")\n",
    "    plt.fill_between(train_sizes, test_scores_mean - test_scores_std,\n",
    "                     test_scores_mean + test_scores_std, alpha=0.1, color=\"g\")\n",
    "    plt.plot(train_sizes, train_scores_mean, 'o-', color=\"r\",\n",
    "             label=\"Training score\")\n",
    "    plt.plot(train_sizes, test_scores_mean, 'o-', color=\"g\",\n",
    "             label=str(cv) +\"x Cross-validation testing score\")\n",
    "\n",
    "    plt.legend(loc=\"best\")\n",
    "    return plt"
   ]
  },
  {
   "cell_type": "code",
   "execution_count": 26,
   "metadata": {},
   "outputs": [
    {
     "data": {
      "text/plain": [
       "<module 'matplotlib.pyplot' from '/Users/jonathanhilgart/.pyenv/versions/omscs_ml/lib/python3.6/site-packages/matplotlib/pyplot.py'>"
      ]
     },
     "execution_count": 26,
     "metadata": {},
     "output_type": "execute_result"
    },
    {
     "data": {
      "image/png": "[encoded data removed]",
      "text/plain": [
       "<Figure size 432x288 with 1 Axes>"
      ]
     },
     "metadata": {
      "needs_background": "light"
     },
     "output_type": "display_data"
    }
   ],
   "source": [
    "plot_learning_curve(KNeighborsClassifier(), 'adult_income_learning_rates_knn',                    \n",
    "                    X_transformed_adult_income_df, Y_transformed_adult_income_df)"
   ]
  },
  {
   "cell_type": "code",
   "execution_count": 28,
   "metadata": {},
   "outputs": [
    {
     "data": {
      "text/plain": [
       "<module 'matplotlib.pyplot' from '/Users/jonathanhilgart/.pyenv/versions/omscs_ml/lib/python3.6/site-packages/matplotlib/pyplot.py'>"
      ]
     },
     "execution_count": 28,
     "metadata": {},
     "output_type": "execute_result"
    },
    {
     "data": {
      "image/png": "[encoded data removed]",
      "text/plain": [
       "<Figure size 432x288 with 1 Axes>"
      ]
     },
     "metadata": {
      "needs_background": "light"
     },
     "output_type": "display_data"
    }
   ],
   "source": [
    "plot_learning_curve(KNeighborsClassifier(), 'banking_learning_rates_knn',                    \n",
    "                    X_transformed_banking_df, Y_transformed_banking_df)"
   ]
  },
  {
   "cell_type": "markdown",
   "metadata": {},
   "source": [
    "# Random Grid Search for best parameters"
   ]
  },
  {
   "cell_type": "code",
   "execution_count": 39,
   "metadata": {},
   "outputs": [],
   "source": [
    "\n",
    "adult_trgX, adult_tstX, adult_trgY, adult_tstY = train_test_split(\n",
    "    X_transformed_adult_income_df, Y_transformed_adult_income_df, test_size=0.3, random_state=0, \n",
    "    stratify=Y_transformed_adult_income_df)\n",
    "\n",
    "banking_trgX, banking_tstX, banking_trgY, banking_tstY = train_test_split(\n",
    "    X_transformed_banking_df, Y_transformed_banking_df, test_size=0.3, random_state=0, stratify=Y_transformed_banking_df)     \n",
    "\n",
    "\n",
    "n_neighbors = [i for i in range(1, 20, 1)]\n",
    "\n",
    "pipeA = Pipeline([('Scale', StandardScaler()),\n",
    "                 ('KNN', KNeighborsClassifier(n_jobs=-1))]) \n",
    "\n",
    "\n",
    "pipeB = Pipeline([('Scale', StandardScaler()),                 \n",
    "                 ('KNN',KNeighborsClassifier(n_jobs=-1))])\n",
    "\n",
    "\n",
    "params = {'KNN__weights':['uniform','distance'],'KNN__algorithm':['ball_tree', 'kd_tree', 'brute'], 'KNN__n_neighbors':n_neighbors}\n"
   ]
  },
  {
   "cell_type": "code",
   "execution_count": 40,
   "metadata": {},
   "outputs": [],
   "source": [
    "a_grid_search = GridSearchCV(pipeA, params, return_train_score=True, n_jobs = -1)\n",
    "banking_grid_serach = GridSearchCV(pipeB, params, return_train_score=True, n_jobs=-1)"
   ]
  },
  {
   "cell_type": "code",
   "execution_count": null,
   "metadata": {},
   "outputs": [],
   "source": [
    "a_grid_search.fit(adult_trgX, adult_trgY)"
   ]
  },
  {
   "cell_type": "code",
   "execution_count": null,
   "metadata": {},
   "outputs": [],
   "source": [
    "a_grid_search.best_params_"
   ]
  },
  {
   "cell_type": "code",
   "execution_count": null,
   "metadata": {},
   "outputs": [],
   "source": [
    "banking_grid_serach.fit(banking_trgX, banking_trgY)"
   ]
  },
  {
   "cell_type": "code",
   "execution_count": null,
   "metadata": {},
   "outputs": [],
   "source": [
    "banking_grid_serach.best_params_"
   ]
  },
  {
   "cell_type": "code",
   "execution_count": null,
   "metadata": {},
   "outputs": [],
   "source": []
  },
  {
   "cell_type": "code",
   "execution_count": null,
   "metadata": {},
   "outputs": [],
   "source": []
  },
  {
   "cell_type": "code",
   "execution_count": null,
   "metadata": {},
   "outputs": [],
   "source": []
  },
  {
   "cell_type": "code",
   "execution_count": null,
   "metadata": {},
   "outputs": [],
   "source": []
  },
  {
   "cell_type": "markdown",
   "metadata": {},
   "source": [
    "# Learning rate as function of K (# neighbors)"
   ]
  },
  {
   "cell_type": "code",
   "execution_count": null,
   "metadata": {},
   "outputs": [],
   "source": [
    "def plot_tree_depth_versus_training_test_score_for_classifier(all_x, all_y, \n",
    "                                                              max_depth_iterations=[_ for _ in range(1,20,1)], \n",
    "                                                              cv_iterations=3, \n",
    "                                                              test_size=.30,\n",
    "                                                              ):\n",
    "    # Take in a classifier and return a dataframe of learning rate metrics\n",
    "    \n",
    "    depth = []\n",
    "    training_scores = {}\n",
    "    testing_scores = {}\n",
    "    \n",
    "    training_precision_scores = {}\n",
    "    testing_precision_scores = {}\n",
    "    \n",
    "    training_recall_scores = {}\n",
    "    testing_recall_scores = {}\n",
    "    \n",
    "    training_f1score_scores = {}\n",
    "    testing_f1score_scores = {}\n",
    "    \n",
    "    training_mean_score = []\n",
    "    testing_mean_score = []\n",
    "    training_mean_precision = []\n",
    "    testing_mean_precision = []\n",
    "    training_mean_recall= [] \n",
    "    testing_mean_recall = []\n",
    "    training_mean_f1score = []\n",
    "    testing_mean_f1score = []\n",
    "    \n",
    "    counter = 0\n",
    "    for k in max_depth_iterations:\n",
    "        print(f\"Depth={depth}\")\n",
    "        for cv in range(cv_iterations):\n",
    "            trgX, tstX, trgY, tstY = train_test_split(\n",
    "                all_x, all_y, test_size=test_size, random_state=0\n",
    "            )\n",
    "            \n",
    "            pipe = Pipeline([('Scale',scaler),\n",
    "                     ('DT', KNeighborsClassifier(n_jobs=-1, n_neighbors=k))]) \n",
    "            pipe.fit(trgX, trgY)\n",
    "            \n",
    "            training_predictions = pipe.predict(trgX)\n",
    "            testing_predictions = pipe.predict(tstX)\n",
    "\n",
    "            if cv == 0:\n",
    "                training_scores[depth] = [accuracy_score(training_predictions, trgY)]\n",
    "                testing_scores[depth] = [accuracy_score(testing_predictions, tstY)]\n",
    "                \n",
    "                precision_train, recall_train, fscore_train, support_train = precision_recall_fscore_support(training_predictions, trgY)\n",
    "                precision_test, recall_test, fscore_test, support_test = precision_recall_fscore_support(testing_predictions, tstY)\n",
    "                # precisiion recall f1score\n",
    "                training_precision_scores[depth] = [precision_train]\n",
    "                training_recall_scores[depth] = [recall_train]\n",
    "                training_f1score_scores[depth] = [fscore_train]\n",
    "                \n",
    "                testing_precision_scores[depth] = [precision_test]\n",
    "                testing_recall_scores[depth] = [recall_test]\n",
    "                testing_f1score_scores[depth] = [fscore_test]\n",
    "                \n",
    "                \n",
    "            elif cv < cv_iterations-1:\n",
    "                training_scores[depth].append(accuracy_score(training_predictions, trgY))\n",
    "                testing_scores[depth].append(accuracy_score(testing_predictions, tstY))\n",
    "                \n",
    "                precision_train, recall_train, fscore_train, support_train = precision_recall_fscore_support(training_predictions, trgY)\n",
    "                precision_test, recall_test, fscore_test, support_test = precision_recall_fscore_support(testing_predictions, tstY)\n",
    "                \n",
    "                testing_precision_scores[depth].append(precision_test)\n",
    "                testing_recall_scores[depth].append(recall_test)\n",
    "                testing_f1score_scores[depth].append(fscore_test)\n",
    "                \n",
    "                training_precision_scores[depth].append(precision_train)\n",
    "                training_recall_scores[depth].append(recall_train)\n",
    "                training_f1score_scores[depth].append(fscore_train)\n",
    "                \n",
    "            else:\n",
    "                training_scores[depth].append(accuracy_score(training_predictions, trgY))\n",
    "                testing_scores[depth].append(accuracy_score(testing_predictions, tstY))\n",
    "                \n",
    "                precision_train, recall_train, fscore_train, support_train = precision_recall_fscore_support(training_predictions, trgY)\n",
    "                precision_test, recall_test, fscore_test, support_test = precision_recall_fscore_support(testing_predictions, tstY)\n",
    "                \n",
    "                testing_precision_scores[depth].append(precision_test)\n",
    "                testing_recall_scores[depth].append(recall_test)\n",
    "                testing_f1score_scores[depth].append(fscore_test)\n",
    "                \n",
    "                training_precision_scores[depth].append(precision_train)\n",
    "                training_recall_scores[depth].append(recall_train)\n",
    "                training_f1score_scores[depth].append(fscore_train)\n",
    "                # add the mean scores\n",
    "                \n",
    "                training_mean_score.append(np.mean(training_scores[depth]))\n",
    "                testing_mean_score.append(np.mean(testing_scores[depth]))\n",
    "                \n",
    "                training_mean_precision.append(np.mean(training_precision_scores[depth]))\n",
    "                testing_mean_precision.append(np.mean(testing_precision_scores[depth]))\n",
    "                \n",
    "                training_mean_recall.append(np.mean(training_recall_scores[depth]))\n",
    "                testing_mean_recall.append(np.mean(testing_recall_scores[depth]))\n",
    "                \n",
    "                training_mean_f1score.append(np.mean(training_f1score_scores[depth]))\n",
    "                testing_mean_f1score.append(np.mean(testing_f1score_scores[depth]))\n",
    "                \n",
    "                \n",
    "            \n",
    "    results_df = pd.DataFrame.from_dict({\n",
    "        'depth':max_depth_iterations,\n",
    "        'training_cv_{}x_score'.format(cv_iterations): training_mean_score,\n",
    "        'testing_cv_{}x_score'.format(cv_iterations): testing_mean_score,\n",
    "        'training_cv_{}x_mean_precision'.format(cv_iterations): training_mean_precision,\n",
    "        'testing_cv_{}x_mean_precision'.format(cv_iterations): testing_mean_precision,\n",
    "        'training_cv_{}x_mean_recall'.format(cv_iterations) : training_mean_recall,\n",
    "        'testing_cv_{}x_mean_recall'.format(cv_iterations): testing_mean_recall,\n",
    "        'training_cv_{}x_mean_f1score'.format(cv_iterations) : training_mean_f1score,\n",
    "        'testing_cv_{}x_mean_f1score'.format(cv_iterations): testing_mean_f1score}\n",
    "    )\n",
    "    return results_df\n",
    "        \n",
    "    \n",
    "    "
   ]
  },
  {
   "cell_type": "code",
   "execution_count": null,
   "metadata": {},
   "outputs": [],
   "source": [
    "adult_knn_results_df = plot_tree_depth_versus_training_test_score_for_classifier(X_transformed_adult_income_df, \n",
    "                                                                      Y_transformed_adult_income_df)"
   ]
  },
  {
   "cell_type": "code",
   "execution_count": null,
   "metadata": {},
   "outputs": [],
   "source": [
    "adult_knn_results_df.plot(x='depth', y=['training_cv_3x_score','testing_cv_3x_score'], kind='line' )\n",
    "plt.title('Adult Dataset')\n",
    "plt.ylabel('Percent')"
   ]
  },
  {
   "cell_type": "code",
   "execution_count": null,
   "metadata": {},
   "outputs": [],
   "source": [
    "banking_knn_results_df = plot_tree_depth_versus_training_test_score_for_classifier(X_transformed_banking_df, \n",
    "                                                                      Y_transformed_banking_df)"
   ]
  },
  {
   "cell_type": "code",
   "execution_count": null,
   "metadata": {},
   "outputs": [],
   "source": [
    "banking_knn_results_df.plot(x='depth', y=['training_cv_3x_score','testing_cv_3x_score'], kind='line' )\n",
    "plt.title('Banking Dataset')\n",
    "plt.ylabel('Percent')"
   ]
  },
  {
   "cell_type": "code",
   "execution_count": null,
   "metadata": {},
   "outputs": [],
   "source": []
  }
 ],
 "metadata": {
  "kernelspec": {
   "display_name": "omscs_ml",
   "language": "python",
   "name": "omscs_ml"
  },
  "language_info": {
   "codemirror_mode": {
    "name": "ipython",
    "version": 3
   },
   "file_extension": ".py",
   "mimetype": "text/x-python",
   "name": "python",
   "nbconvert_exporter": "python",
   "pygments_lexer": "ipython3",
   "version": "3.6.0"
  }
 },
 "nbformat": 4,
 "nbformat_minor": 2
}
