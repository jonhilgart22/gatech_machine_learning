{
 "cells": [
  {
   "cell_type": "code",
   "execution_count": 25,
   "metadata": {},
   "outputs": [
    {
     "name": "stdout",
     "output_type": "stream",
     "text": [
      "Populating the interactive namespace from numpy and matplotlib\n"
     ]
    }
   ],
   "source": [
    "import pandas as pd\n",
    "import io\n",
    "import requests\n",
    "import sklearn\n",
    "from matplotlib import pyplot as plt\n",
    "from sklearn.pipeline import Pipeline\n",
    "%pylab inline\n",
    "from sklearn.neighbors import KNeighborsClassifier \n",
    "from sklearn.svm import SVC\n",
    "from sklearn.model_selection import train_test_split, learning_curve\n",
    "from sklearn.preprocessing import LabelEncoder\n",
    "from sklearn.pipeline import Pipeline\n",
    "from sklearn.preprocessing import StandardScaler\n",
    "from sklearn.model_selection import GridSearchCV\n",
    "from sklearn.metrics import precision_recall_fscore_support, accuracy_score, confusion_matrix\n",
    "import seaborn as sns\n",
    "from sklearn.utils import shuffle\n",
    "\n",
    "#hide warnings\n",
    "import warnings\n",
    "warnings.filterwarnings('ignore')"
   ]
  },
  {
   "cell_type": "markdown",
   "metadata": {},
   "source": [
    "# Adult Dataset"
   ]
  },
  {
   "cell_type": "code",
   "execution_count": 2,
   "metadata": {},
   "outputs": [],
   "source": [
    "adult_income_df = pd.read_csv('./data/adult_income.csv')\n",
    "# If reading it in\n",
    "adult_income_df.drop('Unnamed: 0', axis=1, inplace=True)\n",
    "#transform income into more than 50k less than 50k\n",
    "income_transformed =  adult_income_df['income_bracket'].apply(lambda x: 0 if x == ' <=50K' else 1)\n",
    "adult_income_df['income_bracket'] =income_transformed"
   ]
  },
  {
   "cell_type": "code",
   "execution_count": 3,
   "metadata": {},
   "outputs": [],
   "source": [
    "def one_hot_text_encoder(df, text_cols=['workclass', 'education', 'marital_status', 'occupation', 'relationship', 'sex', 'native_country', 'race']):\n",
    "    for col in text_cols:\n",
    "        # Get k-1 columns\n",
    "        one_hot_df = pd.get_dummies(df[col], drop_first=True)\n",
    "        df = df.drop(col, axis=1)\n",
    "        df = pd.concat([df, one_hot_df], axis=1)\n",
    "    return df"
   ]
  },
  {
   "cell_type": "code",
   "execution_count": 4,
   "metadata": {},
   "outputs": [],
   "source": [
    "transformed_adult_income_df = one_hot_text_encoder(adult_income_df)\n",
    "\n",
    "X_transformed_adult_income_df = transformed_adult_income_df.iloc[:, transformed_adult_income_df.columns != 'income_bracket']\n",
    "Y_transformed_adult_income_df = transformed_adult_income_df['income_bracket']"
   ]
  },
  {
   "cell_type": "markdown",
   "metadata": {},
   "source": [
    "# Banking Dataset"
   ]
  },
  {
   "cell_type": "code",
   "execution_count": 27,
   "metadata": {},
   "outputs": [],
   "source": [
    "banking_df = pd.read_csv('data/bank-full.csv', delimiter =';')\n",
    "\n",
    "# transform y into 1 and 0 \n",
    "banking_df['y'] = banking_df['y'].apply(lambda x: 1 if x =='yes' else 0)\n",
    "\n",
    "banking_text_cols = ['job', 'marital', 'education', 'housing', 'loan', 'contact', 'month', 'poutcome', 'default']\n",
    "transformed_banking_df = one_hot_text_encoder(banking_df, banking_text_cols)\n",
    "transformed_banking_df = shuffle(transformed_banking_df)\n",
    "X_transformed_banking_df = transformed_banking_df.iloc[:, transformed_banking_df.columns != 'y']\n",
    "Y_transformed_banking_df = transformed_banking_df['y']"
   ]
  },
  {
   "cell_type": "markdown",
   "metadata": {},
   "source": [
    "# Learning Rates (function of amount of data given)"
   ]
  },
  {
   "cell_type": "code",
   "execution_count": 28,
   "metadata": {},
   "outputs": [],
   "source": [
    "# Taken from - https://scikit-learn.org/stable/auto_examples/model_selection/plot_learning_curve.html#sphx-glr-auto-examples-model-selection-plot-learning-curve-py\n",
    "def plot_learning_curve(estimator, title, X, y, ylim=None, cv=3,\n",
    "                        n_jobs=None, train_sizes=np.linspace(.1, 1.0, 10)):\n",
    "    \"\"\"\n",
    "    Generate a simple plot of the test and training learning curve.\n",
    "\n",
    "    Parameters\n",
    "    ----------\n",
    "    estimator : object type that implements the \"fit\" and \"predict\" methods\n",
    "        An object of that type which is cloned for each validation.\n",
    "\n",
    "    title : string\n",
    "        Title for the chart.\n",
    "\n",
    "    X : array-like, shape (n_samples, n_features)\n",
    "        Training vector, where n_samples is the number of samples and\n",
    "        n_features is the number of features.\n",
    "\n",
    "    y : array-like, shape (n_samples) or (n_samples, n_features), optional\n",
    "        Target relative to X for classification or regression;\n",
    "        None for unsupervised learning.\n",
    "\n",
    "    ylim : tuple, shape (ymin, ymax), optional\n",
    "        Defines minimum and maximum yvalues plotted.\n",
    "\n",
    "    cv : int, cross-validation generator or an iterable, optional\n",
    "        Determines the cross-validation splitting strategy.\n",
    "        Possible inputs for cv are:\n",
    "          - None, to use the default 3-fold cross-validation,\n",
    "          - integer, to specify the number of folds.\n",
    "          - :term:`CV splitter`,\n",
    "          - An iterable yielding (train, test) splits as arrays of indices.\n",
    "\n",
    "        For integer/None inputs, if ``y`` is binary or multiclass,\n",
    "        :class:`StratifiedKFold` used. If the estimator is not a classifier\n",
    "        or if ``y`` is neither binary nor multiclass, :class:`KFold` is used.\n",
    "\n",
    "        Refer :ref:`User Guide <cross_validation>` for the various\n",
    "        cross-validators that can be used here.\n",
    "\n",
    "    n_jobs : int or None, optional (default=None)\n",
    "        Number of jobs to run in parallel.\n",
    "        ``None`` means 1 unless in a :obj:`joblib.parallel_backend` context.\n",
    "        ``-1`` means using all processors. See :term:`Glossary <n_jobs>`\n",
    "        for more details.\n",
    "\n",
    "    train_sizes : array-like, shape (n_ticks,), dtype float or int\n",
    "        Relative or absolute numbers of training examples that will be used to\n",
    "        generate the learning curve. If the dtype is float, it is regarded as a\n",
    "        fraction of the maximum size of the training set (that is determined\n",
    "        by the selected validation method), i.e. it has to be within (0, 1].\n",
    "        Otherwise it is interpreted as absolute sizes of the training sets.\n",
    "        Note that for classification the number of samples usually have to\n",
    "        be big enough to contain at least one sample from each class.\n",
    "        (default: np.linspace(0.1, 1.0, 5))\n",
    "    \"\"\"\n",
    "    plt.figure()\n",
    "    plt.title(title)\n",
    "    if ylim is not None:\n",
    "        plt.ylim(*ylim)\n",
    "    plt.xlabel(\"Training examples\")\n",
    "    plt.ylabel(\"Score\")\n",
    "    train_sizes, train_scores, test_scores = learning_curve(\n",
    "        estimator, X, y, cv=cv, n_jobs=n_jobs, train_sizes=train_sizes)\n",
    "    train_scores_mean = np.mean(train_scores, axis=1)\n",
    "    train_scores_std = np.std(train_scores, axis=1)\n",
    "    test_scores_mean = np.mean(test_scores, axis=1)\n",
    "    test_scores_std = np.std(test_scores, axis=1)\n",
    "    plt.grid()\n",
    "\n",
    "    plt.fill_between(train_sizes, train_scores_mean - train_scores_std,\n",
    "                     train_scores_mean + train_scores_std, alpha=0.1,\n",
    "                     color=\"r\")\n",
    "    plt.fill_between(train_sizes, test_scores_mean - test_scores_std,\n",
    "                     test_scores_mean + test_scores_std, alpha=0.1, color=\"g\")\n",
    "    plt.plot(train_sizes, train_scores_mean, 'o-', color=\"r\",\n",
    "             label=\"Training score\")\n",
    "    plt.plot(train_sizes, test_scores_mean, 'o-', color=\"g\",\n",
    "             label=str(cv) +\"x Cross-validation testing score\")\n",
    "\n",
    "    plt.legend(loc=\"best\")\n",
    "    return plt"
   ]
  },
  {
   "cell_type": "code",
   "execution_count": 12,
   "metadata": {},
   "outputs": [
    {
     "name": "stdout",
     "output_type": "stream",
     "text": [
      "[LibSVM][LibSVM][LibSVM][LibSVM][LibSVM][LibSVM][LibSVM][LibSVM][LibSVM][LibSVM][LibSVM][LibSVM][LibSVM][LibSVM][LibSVM][LibSVM][LibSVM][LibSVM][LibSVM][LibSVM][LibSVM][LibSVM][LibSVM][LibSVM][LibSVM][LibSVM][LibSVM][LibSVM][LibSVM][LibSVM]"
     ]
    },
    {
     "data": {
      "text/plain": [
       "<module 'matplotlib.pyplot' from '/Users/jonathanhilgart/.pyenv/versions/omscs_ml/lib/python3.6/site-packages/matplotlib/pyplot.py'>"
      ]
     },
     "execution_count": 12,
     "metadata": {},
     "output_type": "execute_result"
    },
    {
     "data": {
      "image/png": "[encoded data removed]",
      "text/plain": [
       "<Figure size 432x288 with 1 Axes>"
      ]
     },
     "metadata": {
      "needs_background": "light"
     },
     "output_type": "display_data"
    }
   ],
   "source": [
    "plot_learning_curve(SVC(verbose=True), 'adult_income_learning_rates_svm',                    \n",
    "                    X_transformed_adult_income_df, Y_transformed_adult_income_df)"
   ]
  },
  {
   "cell_type": "code",
   "execution_count": 29,
   "metadata": {},
   "outputs": [
    {
     "name": "stdout",
     "output_type": "stream",
     "text": [
      "[LibSVM][LibSVM][LibSVM][LibSVM][LibSVM][LibSVM][LibSVM][LibSVM][LibSVM][LibSVM][LibSVM][LibSVM][LibSVM][LibSVM][LibSVM][LibSVM][LibSVM][LibSVM][LibSVM][LibSVM][LibSVM][LibSVM][LibSVM][LibSVM][LibSVM][LibSVM][LibSVM][LibSVM][LibSVM][LibSVM]"
     ]
    },
    {
     "data": {
      "text/plain": [
       "<module 'matplotlib.pyplot' from '/Users/jonathanhilgart/.pyenv/versions/omscs_ml/lib/python3.6/site-packages/matplotlib/pyplot.py'>"
      ]
     },
     "execution_count": 29,
     "metadata": {},
     "output_type": "execute_result"
    },
    {
     "data": {
      "image/png": "[encoded data removed]",
      "text/plain": [
       "<Figure size 432x288 with 1 Axes>"
      ]
     },
     "metadata": {
      "needs_background": "light"
     },
     "output_type": "display_data"
    }
   ],
   "source": [
    "plot_learning_curve(SVC(verbose=True), 'banking_learning_rates_knn',                    \n",
    "                    X_transformed_banking_df, Y_transformed_banking_df)"
   ]
  },
  {
   "cell_type": "code",
   "execution_count": null,
   "metadata": {},
   "outputs": [],
   "source": []
  },
  {
   "cell_type": "code",
   "execution_count": null,
   "metadata": {},
   "outputs": [],
   "source": []
  },
  {
   "cell_type": "markdown",
   "metadata": {},
   "source": [
    "#  Random Grid Search for best parameters"
   ]
  },
  {
   "cell_type": "code",
   "execution_count": 30,
   "metadata": {},
   "outputs": [],
   "source": [
    "\n",
    "adult_trgX, adult_tstX, adult_trgY, adult_tstY = train_test_split(\n",
    "    X_transformed_adult_income_df, Y_transformed_adult_income_df, test_size=0.3, random_state=0, \n",
    "    stratify=Y_transformed_adult_income_df)\n",
    "\n",
    "banking_trgX, banking_tstX, banking_trgY, banking_tstY = train_test_split(\n",
    "    X_transformed_banking_df, Y_transformed_banking_df, test_size=0.1, random_state=0, stratify=Y_transformed_banking_df)     \n",
    "\n",
    "\n",
    "c_params = [i for i in np.linspace(0.01, 2, 10)]\n",
    "\n",
    "pipeA = Pipeline([('Scale', StandardScaler()),\n",
    "                 ('SVM', SVC(verbose=True))]) \n",
    "\n",
    "\n",
    "pipeB = Pipeline([('Scale', StandardScaler()),                 \n",
    "                 ('SVM',SVC(verbose=True))])\n",
    "\n",
    "\n",
    "params = {'SVM__kernel':['rbf','linear', 'poly'],'SVM__C':c_params}\n"
   ]
  },
  {
   "cell_type": "code",
   "execution_count": 31,
   "metadata": {},
   "outputs": [],
   "source": [
    "a_grid_search = GridSearchCV(pipeA, params, return_train_score=True, n_jobs = -1)\n",
    "banking_grid_serach = GridSearchCV(pipeB, params, return_train_score=True, n_jobs=-1)"
   ]
  },
  {
   "cell_type": "code",
   "execution_count": 32,
   "metadata": {},
   "outputs": [
    {
     "name": "stdout",
     "output_type": "stream",
     "text": [
      "[LibSVM]"
     ]
    },
    {
     "data": {
      "text/plain": [
       "GridSearchCV(cv='warn', error_score='raise-deprecating',\n",
       "       estimator=Pipeline(memory=None,\n",
       "     steps=[('Scale', StandardScaler(copy=True, with_mean=True, with_std=True)), ('SVM', SVC(C=1.0, cache_size=200, class_weight=None, coef0=0.0,\n",
       "  decision_function_shape='ovr', degree=3, gamma='auto_deprecated',\n",
       "  kernel='rbf', max_iter=-1, probability=False, random_state=None,\n",
       "  shrinking=True, tol=0.001, verbose=True))]),\n",
       "       fit_params=None, iid='warn', n_jobs=-1,\n",
       "       param_grid={'SVM__kernel': ['rbf', 'linear', 'poly'], 'SVM__C': [0.01, 0.23111111111111113, 0.45222222222222225, 0.6733333333333333, 0.8944444444444445, 1.1155555555555556, 1.3366666666666667, 1.557777777777778, 1.778888888888889, 2.0]},\n",
       "       pre_dispatch='2*n_jobs', refit=True, return_train_score=True,\n",
       "       scoring=None, verbose=0)"
      ]
     },
     "execution_count": 32,
     "metadata": {},
     "output_type": "execute_result"
    }
   ],
   "source": [
    "a_grid_search.fit(adult_trgX, adult_trgY)"
   ]
  },
  {
   "cell_type": "code",
   "execution_count": null,
   "metadata": {},
   "outputs": [],
   "source": [
    "a_grid_search.best_params_"
   ]
  },
  {
   "cell_type": "code",
   "execution_count": 46,
   "metadata": {},
   "outputs": [],
   "source": [
    "best_adult_svm = SVC(C=.23, kernel='linear')"
   ]
  },
  {
   "cell_type": "code",
   "execution_count": null,
   "metadata": {},
   "outputs": [],
   "source": [
    "# best performance\n",
    "best_adult_svm.fit(adult_trgX, adult_trgY)"
   ]
  },
  {
   "cell_type": "code",
   "execution_count": null,
   "metadata": {},
   "outputs": [],
   "source": [
    "precision_recall_    best_adult_svm.predict(adult_tstX), adult_tstY)"
   ]
  },
  {
   "cell_type": "markdown",
   "metadata": {},
   "source": [
    "- banking best params"
   ]
  },
  {
   "cell_type": "code",
   "execution_count": 34,
   "metadata": {},
   "outputs": [
    {
     "name": "stdout",
     "output_type": "stream",
     "text": [
      "[LibSVM]"
     ]
    },
    {
     "data": {
      "text/plain": [
       "GridSearchCV(cv='warn', error_score='raise-deprecating',\n",
       "       estimator=Pipeline(memory=None,\n",
       "     steps=[('Scale', StandardScaler(copy=True, with_mean=True, with_std=True)), ('SVM', SVC(C=1.0, cache_size=200, class_weight=None, coef0=0.0,\n",
       "  decision_function_shape='ovr', degree=3, gamma='auto_deprecated',\n",
       "  kernel='rbf', max_iter=-1, probability=False, random_state=None,\n",
       "  shrinking=True, tol=0.001, verbose=True))]),\n",
       "       fit_params=None, iid='warn', n_jobs=-1,\n",
       "       param_grid={'SVM__kernel': ['rbf', 'linear', 'poly'], 'SVM__C': [0.01, 0.23111111111111113, 0.45222222222222225, 0.6733333333333333, 0.8944444444444445, 1.1155555555555556, 1.3366666666666667, 1.557777777777778, 1.778888888888889, 2.0]},\n",
       "       pre_dispatch='2*n_jobs', refit=True, return_train_score=True,\n",
       "       scoring=None, verbose=0)"
      ]
     },
     "execution_count": 34,
     "metadata": {},
     "output_type": "execute_result"
    }
   ],
   "source": [
    "banking_grid_serach.fit(banking_trgX, banking_trgY)"
   ]
  },
  {
   "cell_type": "code",
   "execution_count": 35,
   "metadata": {},
   "outputs": [
    {
     "data": {
      "text/plain": [
       "{'SVM__C': 2.0, 'SVM__kernel': 'rbf'}"
      ]
     },
     "execution_count": 35,
     "metadata": {},
     "output_type": "execute_result"
    }
   ],
   "source": [
    "banking_grid_serach.best_params_"
   ]
  },
  {
   "cell_type": "code",
   "execution_count": null,
   "metadata": {},
   "outputs": [],
   "source": [
    "best_banking_svm = SVC(C=2.0, kernel='rbf')"
   ]
  },
  {
   "cell_type": "code",
   "execution_count": null,
   "metadata": {},
   "outputs": [],
   "source": [
    "best_banking_svm.fit(banking_trgX, banking_trgY)"
   ]
  },
  {
   "cell_type": "code",
   "execution_count": null,
   "metadata": {},
   "outputs": [],
   "source": [
    "print('HI')"
   ]
  },
  {
   "cell_type": "markdown",
   "metadata": {},
   "source": [
    "# Time how long training takes"
   ]
  },
  {
   "cell_type": "code",
   "execution_count": 36,
   "metadata": {},
   "outputs": [
    {
     "name": "stdout",
     "output_type": "stream",
     "text": [
      "3min 8s ± 768 ms per loop (mean ± std. dev. of 7 runs, 1 loop each)\n"
     ]
    }
   ],
   "source": [
    "#adult\n",
    "%timeit SVC().fit(adult_trgX, adult_trgY)"
   ]
  },
  {
   "cell_type": "code",
   "execution_count": 38,
   "metadata": {},
   "outputs": [
    {
     "name": "stdout",
     "output_type": "stream",
     "text": [
      "4min 20s ± 996 ms per loop (mean ± std. dev. of 7 runs, 1 loop each)\n"
     ]
    }
   ],
   "source": [
    "#banking\n",
    "%timeit SVC().fit(banking_trgX, banking_trgY)"
   ]
  },
  {
   "cell_type": "code",
   "execution_count": null,
   "metadata": {},
   "outputs": [],
   "source": []
  },
  {
   "cell_type": "markdown",
   "metadata": {},
   "source": [
    "# Test out different values for C the penalization parameter"
   ]
  },
  {
   "cell_type": "code",
   "execution_count": 39,
   "metadata": {},
   "outputs": [],
   "source": [
    "def plot_tree_versus_training_test_score_for_classifier(all_x, all_y, \n",
    "                                                              iterations=np.linspace(.01,2,10), \n",
    "                                                              cv_iterations=3, \n",
    "                                                              test_size=.30,\n",
    "                                                              ):\n",
    "    # Take in a classifier and return a dataframe of learning rate metrics\n",
    "    \n",
    "    depth = []\n",
    "    training_scores = {}\n",
    "    testing_scores = {}\n",
    "    \n",
    "    training_precision_scores = {}\n",
    "    testing_precision_scores = {}\n",
    "    \n",
    "    training_recall_scores = {}\n",
    "    testing_recall_scores = {}\n",
    "    \n",
    "    training_f1score_scores = {}\n",
    "    testing_f1score_scores = {}\n",
    "    \n",
    "    training_mean_score = []\n",
    "    testing_mean_score = []\n",
    "    training_mean_precision = []\n",
    "    testing_mean_precision = []\n",
    "    training_mean_recall= [] \n",
    "    testing_mean_recall = []\n",
    "    training_mean_f1score = []\n",
    "    testing_mean_f1score = []\n",
    "    \n",
    "    counter = 0\n",
    "    for k in iterations:\n",
    "        print(f\"i={k}\")\n",
    "        for cv in range(cv_iterations):\n",
    "            trgX, tstX, trgY, tstY = train_test_split(\n",
    "                all_x, all_y, test_size=test_size, random_state=0\n",
    "            )\n",
    "            \n",
    "            pipe = Pipeline([('Scale',StandardScaler()),\n",
    "                     ('svc', SVC(C=k))]) \n",
    "            pipe.fit(trgX, trgY)\n",
    "            \n",
    "            training_predictions = pipe.predict(trgX)\n",
    "            testing_predictions = pipe.predict(tstX)\n",
    "\n",
    "            if cv == 0:\n",
    "                training_scores[k] = [accuracy_score(training_predictions, trgY)]\n",
    "                testing_scores[k] = [accuracy_score(testing_predictions, tstY)]\n",
    "                \n",
    "                precision_train, recall_train, fscore_train, support_train = precision_recall_fscore_support(training_predictions, trgY)\n",
    "                precision_test, recall_test, fscore_test, support_test = precision_recall_fscore_support(testing_predictions, tstY)\n",
    "                # precisiion recall f1score\n",
    "                training_precision_scores[k] = [precision_train]\n",
    "                training_recall_scores[k] = [recall_train]\n",
    "                training_f1score_scores[k] = [fscore_train]\n",
    "                \n",
    "                testing_precision_scores[k] = [precision_test]\n",
    "                testing_recall_scores[k] = [recall_test]\n",
    "                testing_f1score_scores[k] = [fscore_test]\n",
    "                \n",
    "                \n",
    "            elif cv < cv_iterations-1:\n",
    "                training_scores[k].append(accuracy_score(training_predictions, trgY))\n",
    "                testing_scores[k].append(accuracy_score(testing_predictions, tstY))\n",
    "                \n",
    "                precision_train, recall_train, fscore_train, support_train = precision_recall_fscore_support(training_predictions, trgY)\n",
    "                precision_test, recall_test, fscore_test, support_test = precision_recall_fscore_support(testing_predictions, tstY)\n",
    "                \n",
    "                testing_precision_scores[k].append(precision_test)\n",
    "                testing_recall_scores[k].append(recall_test)\n",
    "                testing_f1score_scores[k].append(fscore_test)\n",
    "                \n",
    "                training_precision_scores[k].append(precision_train)\n",
    "                training_recall_scores[k].append(recall_train)\n",
    "                training_f1score_scores[k].append(fscore_train)\n",
    "                \n",
    "            else:\n",
    "                training_scores[k].append(accuracy_score(training_predictions, trgY))\n",
    "                testing_scores[k].append(accuracy_score(testing_predictions, tstY))\n",
    "                \n",
    "                precision_train, recall_train, fscore_train, support_train = precision_recall_fscore_support(training_predictions, trgY)\n",
    "                precision_test, recall_test, fscore_test, support_test = precision_recall_fscore_support(testing_predictions, tstY)\n",
    "                \n",
    "                testing_precision_scores[k].append(precision_test)\n",
    "                testing_recall_scores[k].append(recall_test)\n",
    "                testing_f1score_scores[k].append(fscore_test)\n",
    "                \n",
    "                training_precision_scores[k].append(precision_train)\n",
    "                training_recall_scores[k].append(recall_train)\n",
    "                training_f1score_scores[k].append(fscore_train)\n",
    "                # add the mean scores\n",
    "                \n",
    "                training_mean_score.append(np.mean(training_scores[k]))\n",
    "                testing_mean_score.append(np.mean(testing_scores[k]))\n",
    "                \n",
    "                training_mean_precision.append(np.mean(training_precision_scores[k]))\n",
    "                testing_mean_precision.append(np.mean(testing_precision_scores[k]))\n",
    "                \n",
    "                training_mean_recall.append(np.mean(training_recall_scores[k]))\n",
    "                testing_mean_recall.append(np.mean(testing_recall_scores[k]))\n",
    "                \n",
    "                training_mean_f1score.append(np.mean(training_f1score_scores[k]))\n",
    "                testing_mean_f1score.append(np.mean(testing_f1score_scores[k]))\n",
    "                \n",
    "                \n",
    "            \n",
    "    results_df = pd.DataFrame.from_dict({\n",
    "        'C':iterations,\n",
    "        'training_cv_{}x_score'.format(cv_iterations): training_mean_score,\n",
    "        'testing_cv_{}x_score'.format(cv_iterations): testing_mean_score,\n",
    "        'training_cv_{}x_mean_precision'.format(cv_iterations): training_mean_precision,\n",
    "        'testing_cv_{}x_mean_precision'.format(cv_iterations): testing_mean_precision,\n",
    "        'training_cv_{}x_mean_recall'.format(cv_iterations) : training_mean_recall,\n",
    "        'testing_cv_{}x_mean_recall'.format(cv_iterations): testing_mean_recall,\n",
    "        'training_cv_{}x_mean_f1score'.format(cv_iterations) : training_mean_f1score,\n",
    "        'testing_cv_{}x_mean_f1score'.format(cv_iterations): testing_mean_f1score}\n",
    "    )\n",
    "    return results_df\n",
    "        \n",
    "    \n",
    "    "
   ]
  },
  {
   "cell_type": "code",
   "execution_count": 40,
   "metadata": {},
   "outputs": [
    {
     "name": "stdout",
     "output_type": "stream",
     "text": [
      "i=0.01\n",
      "i=0.23111111111111113\n",
      "i=0.45222222222222225\n",
      "i=0.6733333333333333\n",
      "i=0.8944444444444445\n",
      "i=1.1155555555555556\n",
      "i=1.3366666666666667\n",
      "i=1.557777777777778\n",
      "i=1.778888888888889\n",
      "i=2.0\n"
     ]
    }
   ],
   "source": [
    "banking_svc_results_df = plot_tree_versus_training_test_score_for_classifier(X_transformed_banking_df, \n",
    "                                                                      Y_transformed_banking_df)"
   ]
  },
  {
   "cell_type": "code",
   "execution_count": 41,
   "metadata": {},
   "outputs": [
    {
     "name": "stdout",
     "output_type": "stream",
     "text": [
      "i=0.01\n",
      "i=0.23111111111111113\n",
      "i=0.45222222222222225\n",
      "i=0.6733333333333333\n",
      "i=0.8944444444444445\n",
      "i=1.1155555555555556\n",
      "i=1.3366666666666667\n",
      "i=1.557777777777778\n",
      "i=1.778888888888889\n",
      "i=2.0\n"
     ]
    }
   ],
   "source": [
    "adult_svc_results_df = plot_tree_versus_training_test_score_for_classifier(X_transformed_adult_income_df, \n",
    "                                                                      Y_transformed_adult_income_df)"
   ]
  },
  {
   "cell_type": "code",
   "execution_count": 44,
   "metadata": {},
   "outputs": [
    {
     "data": {
      "text/plain": [
       "Text(0, 0.5, 'Percent')"
      ]
     },
     "execution_count": 44,
     "metadata": {},
     "output_type": "execute_result"
    },
    {
     "data": {
      "image/png": "[encoded data removed]",
      "text/plain": [
       "<Figure size 432x288 with 1 Axes>"
      ]
     },
     "metadata": {
      "needs_background": "light"
     },
     "output_type": "display_data"
    }
   ],
   "source": [
    "adult_svc_results_df.plot(x='C', y=['training_cv_3x_score','testing_cv_3x_score'], kind='line' )\n",
    "plt.title('Adult Dataset - SVM')\n",
    "plt.ylabel('Percent')"
   ]
  },
  {
   "cell_type": "code",
   "execution_count": 45,
   "metadata": {},
   "outputs": [
    {
     "data": {
      "text/plain": [
       "Text(0, 0.5, 'Percent')"
      ]
     },
     "execution_count": 45,
     "metadata": {},
     "output_type": "execute_result"
    },
    {
     "data": {
      "image/png": "[encoded data removed]",
      "text/plain": [
       "<Figure size 432x288 with 1 Axes>"
      ]
     },
     "metadata": {
      "needs_background": "light"
     },
     "output_type": "display_data"
    }
   ],
   "source": [
    "banking_svc_results_df.plot(x='C', y=['training_cv_3x_score','testing_cv_3x_score'], kind='line' )\n",
    "plt.title('Banking Dataset - SVM')\n",
    "plt.ylabel('Percent')"
   ]
  },
  {
   "cell_type": "code",
   "execution_count": null,
   "metadata": {},
   "outputs": [],
   "source": [
    "banking_svc_results_df"
   ]
  },
  {
   "cell_type": "code",
   "execution_count": null,
   "metadata": {},
   "outputs": [],
   "source": []
  }
 ],
 "metadata": {
  "kernelspec": {
   "display_name": "omscs_ml",
   "language": "python",
   "name": "omscs_ml"
  },
  "language_info": {
   "codemirror_mode": {
    "name": "ipython",
    "version": 3
   },
   "file_extension": ".py",
   "mimetype": "text/x-python",
   "name": "python",
   "nbconvert_exporter": "python",
   "pygments_lexer": "ipython3",
   "version": "3.6.0"
  }
 },
 "nbformat": 4,
 "nbformat_minor": 2
}
